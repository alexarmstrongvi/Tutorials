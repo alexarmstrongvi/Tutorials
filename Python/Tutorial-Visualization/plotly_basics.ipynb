{
 "cells": [
  {
   "cell_type": "code",
   "execution_count": null,
   "id": "fcf175b6-87db-4476-aaa0-001a7d71060e",
   "metadata": {},
   "outputs": [],
   "source": [
    "import sys\n",
    "import jupyterlab\n",
    "print('Python version     :', sys.version)\n",
    "print('Python interpreter :', sys.executable)\n",
    "print('JupyterLab version :', jupyterlab.__version__)"
   ]
  },
  {
   "cell_type": "markdown",
   "id": "425ea6d9-8687-4d12-8566-3c5e2f8169af",
   "metadata": {},
   "source": [
    "**Note**:\n",
    "JupyterLab 4.0 has a bug that doesn't render plot layouts with the correct height for the jupyterlab rendered. Options until bug is fixed are:\n",
    "\n",
    "1) set the rendered to iframe\n",
    "1) set the layout height manually (`fig.layout.height = 500`)\n",
    "1) Use Notebook or older version of JupyterLab\n",
    "\n",
    "Reference: https://stackoverflow.com/questions/76325663/plotly-graph-is-collapsed-in-jupyter-lab-unless-i-specify-the-height"
   ]
  },
  {
   "cell_type": "markdown",
   "id": "54a542d4",
   "metadata": {},
   "source": [
    "# Plotly Tutorial"
   ]
  },
  {
   "cell_type": "code",
   "execution_count": null,
   "id": "b62a466b",
   "metadata": {},
   "outputs": [],
   "source": [
    "import numpy as np\n",
    "import plotly\n",
    "import plotly.express as px\n",
    "import plotly.graph_objects as go\n",
    "from plotly.subplots import make_subplots\n",
    "import plotly.io as pio # low-level\n",
    "print(f'{plotly.__version__ = }')\n",
    "print(pio.renderers)"
   ]
  },
  {
   "cell_type": "code",
   "execution_count": null,
   "id": "84f02c7f",
   "metadata": {},
   "outputs": [],
   "source": [
    "rng = np.random.default_rng(seed=1)"
   ]
  },
  {
   "cell_type": "markdown",
   "id": "d6ab8aef",
   "metadata": {},
   "source": [
    "## Big Picture"
   ]
  },
  {
   "cell_type": "markdown",
   "id": "b89b077f",
   "metadata": {},
   "source": [
    "* Plotly is an open source graphic library focused on interactive graphs\n",
    "    * Maintained by Plotly, a private computer software company based in Canada\n",
    "    * Other products of Plotly include Dash and Dash Enterprise, \n",
    "    * Figure rendering based on Plotly.js library under thd hood\n",
    "* Data Structure\n",
    "    * Figures defined in the `graph_objets.Figure` class but are serialized as JSON text before getting passed to Plotly.js\n",
    "    * Figures as Trees of Attributes\n",
    "        * Attribute 1) Data\n",
    "            * Traces - dictionary representations of a figure's graphical marks for a single subplot\n",
    "        * Attribute 2) Layout - positioning and configuration of non-data parts\n",
    "        * Attribute 3) Frames - list of sequential figures for animations\n",
    "    * `config` Object - Exposes control of figure behaviors at render-time\n",
    "    * Coordinate systems\n",
    "        * Paper coordinates\n",
    "        * Container coordinates\n",
    "        * Axis domain coordinates\n",
    "* Package Structure\n",
    "    * Plotly Express - high level interface to Plotly\n",
    "    * Graph Objects\n",
    "* Exporting Static Images\n",
    "* Legends\n",
    "* Formatting Axis\n",
    "* Subplots and Inset Plots\n",
    "* Figure Types\n",
    "    * Charts\n",
    "    * Plots\n",
    "    * Maps\n",
    "    * Diagrams\n",
    "* Buttons, Dropdown, and Sliders\n",
    "* FigureWidget Class\n",
    "* Converting MatPlotlib to Plotly"
   ]
  },
  {
   "cell_type": "markdown",
   "id": "d0f99ddb",
   "metadata": {},
   "source": [
    "## Creating Figures"
   ]
  },
  {
   "cell_type": "code",
   "execution_count": null,
   "id": "40c20ada",
   "metadata": {},
   "outputs": [],
   "source": [
    "y=[1,3,2,4,6,5,10]"
   ]
  },
  {
   "cell_type": "markdown",
   "id": "7a21ddf6",
   "metadata": {},
   "source": [
    "Plotly Express - high level API for common plotting operations"
   ]
  },
  {
   "cell_type": "code",
   "execution_count": null,
   "id": "76ddf715",
   "metadata": {},
   "outputs": [],
   "source": [
    "fig = px.line(y=y)\n",
    "#fig.show()"
   ]
  },
  {
   "cell_type": "markdown",
   "id": "739648b8",
   "metadata": {},
   "source": [
    "Bottom up creation from `Figure` objects"
   ]
  },
  {
   "cell_type": "code",
   "execution_count": null,
   "id": "fedabcb5",
   "metadata": {},
   "outputs": [],
   "source": [
    "fig_data = go.Scatter(y=y)\n",
    "print(type(fig_data))\n",
    "print(fig_data)\n",
    "fig = go.Figure(data=fig_data)\n",
    "#fig.show()"
   ]
  },
  {
   "cell_type": "markdown",
   "id": "dfb16c0b",
   "metadata": {},
   "source": [
    "Convert dictionary representation into `Figure` object"
   ]
  },
  {
   "cell_type": "code",
   "execution_count": null,
   "id": "23fdefd4",
   "metadata": {},
   "outputs": [],
   "source": [
    "dict_of_fig = {\n",
    "    \"data\" : [{\n",
    "        \"type\" : 'scatter',\n",
    "        \"x\" : list(range(len(y))),\n",
    "        \"y\" : y\n",
    "    }]\n",
    "}\n",
    "fig = go.Figure(dict_of_fig)\n",
    "#fig.show()"
   ]
  },
  {
   "cell_type": "markdown",
   "id": "65732dc1",
   "metadata": {},
   "source": [
    "Display figure directly from dictionary representation"
   ]
  },
  {
   "cell_type": "code",
   "execution_count": null,
   "id": "9db7dd6a",
   "metadata": {},
   "outputs": [],
   "source": [
    "#pio.show(dict_of_fig)"
   ]
  },
  {
   "cell_type": "markdown",
   "id": "2554f0f9",
   "metadata": {},
   "source": [
    "Debug printout"
   ]
  },
  {
   "cell_type": "code",
   "execution_count": null,
   "id": "9b46cd46",
   "metadata": {},
   "outputs": [],
   "source": [
    "# print(fig.to_json(pretty=True)) # Full printout\n",
    "print(fig) # Replaces verbose layout.template attribute info with '...'"
   ]
  },
  {
   "cell_type": "markdown",
   "id": "697e2f4a",
   "metadata": {},
   "source": [
    "Subplots"
   ]
  },
  {
   "cell_type": "code",
   "execution_count": null,
   "id": "0ad23a02",
   "metadata": {},
   "outputs": [],
   "source": [
    "fig = make_subplots(rows=1, cols=2)\n",
    "scatter_data = go.Scatter(y=y)\n",
    "\n",
    "fig.add_trace(scatter_data, row=1, col=1);\n",
    "fig.add_trace(scatter_data, row=1, col=2);\n",
    "#fig.show()"
   ]
  },
  {
   "cell_type": "markdown",
   "id": "1a2b1f20",
   "metadata": {},
   "source": [
    "Overlay Plots"
   ]
  },
  {
   "cell_type": "code",
   "execution_count": null,
   "id": "fb8105f5",
   "metadata": {},
   "outputs": [],
   "source": [
    "fig = px.line(y=[x**2 for x in y])\n",
    "fig.add_trace(scatter_data);\n",
    "#fig.show()"
   ]
  },
  {
   "cell_type": "markdown",
   "id": "6f260e83",
   "metadata": {},
   "source": [
    "## Figure Layout and Axes"
   ]
  },
  {
   "cell_type": "markdown",
   "id": "0c27f9a0",
   "metadata": {},
   "source": [
    "Update figure layout"
   ]
  },
  {
   "cell_type": "code",
   "execution_count": null,
   "id": "fa896c16",
   "metadata": {},
   "outputs": [],
   "source": [
    "fig = px.line(y=y)\n",
    "fig.update_layout(\n",
    "    # Labels\n",
    "    title_text=\"My Title\",\n",
    "    xaxis_title = \"My X-axis title\",\n",
    "    yaxis_title = \"My Y-axis title\",\n",
    "    legend_title= \"My legend\",\n",
    "    # Margins\n",
    "    paper_bgcolor='LightGray',\n",
    "    width=500,\n",
    "    height=500,\n",
    "    margin=dict(l=20, r=20, t=100, b=20),\n",
    ")\n",
    "#dir(fig.layout.xaxis)\n",
    "fig.update_xaxes(\n",
    "    showgrid=False,\n",
    "    range=(-1,7)\n",
    ")\n",
    "fig.update_yaxes(\n",
    "    zerolinewidth=5,\n",
    "    range=(-1,15)\n",
    ")\n",
    "fig.show()\n"
   ]
  },
  {
   "cell_type": "code",
   "execution_count": null,
   "id": "a5bff3b4",
   "metadata": {},
   "outputs": [],
   "source": [
    "[x for x in dir(fig.layout.xaxis) if not x.startswith('_')]"
   ]
  },
  {
   "cell_type": "code",
   "execution_count": null,
   "id": "fcfcde39",
   "metadata": {},
   "outputs": [],
   "source": [
    "[x for x in dir(fig) if x.startswith('update_')]"
   ]
  },
  {
   "cell_type": "code",
   "execution_count": null,
   "id": "69868dd9",
   "metadata": {},
   "outputs": [],
   "source": []
  },
  {
   "cell_type": "markdown",
   "id": "e7e00c35",
   "metadata": {
    "heading_collapsed": true
   },
   "source": [
    "## Configuration of figures and modebar"
   ]
  },
  {
   "cell_type": "code",
   "execution_count": null,
   "id": "f3caeb67",
   "metadata": {
    "hidden": true
   },
   "outputs": [],
   "source": [
    "fig = px.line(y=y)\n",
    "config = {\n",
    "    'staticPlot' : True\n",
    "}\n",
    "fig.show(config=config)"
   ]
  },
  {
   "cell_type": "markdown",
   "id": "919d8849",
   "metadata": {
    "hidden": true
   },
   "source": [
    "Configuration option examples:\n",
    "* `scrollZoom`\n",
    "* `responsive`\n",
    "* `staticPlot`\n",
    "* `displayModeBar`\n",
    "* `displaylogo`\n",
    "* `toImageButtonOptions`\n",
    "* `doubleClickDelay`"
   ]
  },
  {
   "cell_type": "markdown",
   "id": "79f3c2bb",
   "metadata": {
    "hidden": true
   },
   "source": [
    "### Shape drawing"
   ]
  },
  {
   "cell_type": "code",
   "execution_count": null,
   "id": "ab59014e",
   "metadata": {
    "hidden": true
   },
   "outputs": [],
   "source": [
    "config = {'modeBarButtonsToAdd':[\n",
    "    'drawline',\n",
    "    'drawopenpath',\n",
    "    'drawclosedpath',\n",
    "    'drawcircle',\n",
    "    'drawrect',\n",
    "    'eraseshape']\n",
    "}\n",
    "fig.show(config=config)"
   ]
  },
  {
   "cell_type": "markdown",
   "id": "9720075c",
   "metadata": {
    "heading_collapsed": true
   },
   "source": [
    "## Displaying Figures"
   ]
  },
  {
   "cell_type": "code",
   "execution_count": null,
   "id": "58651c0b",
   "metadata": {
    "hidden": true
   },
   "outputs": [],
   "source": [
    "pio.renderers"
   ]
  },
  {
   "cell_type": "markdown",
   "id": "c3dade7f",
   "metadata": {
    "heading_collapsed": true
   },
   "source": [
    "## Theming and Templates"
   ]
  },
  {
   "cell_type": "code",
   "execution_count": null,
   "id": "ebe1026b",
   "metadata": {
    "hidden": true
   },
   "outputs": [],
   "source": [
    "pio.templates"
   ]
  },
  {
   "cell_type": "code",
   "execution_count": null,
   "id": "8222fba5",
   "metadata": {
    "hidden": true
   },
   "outputs": [],
   "source": [
    "fig = px.line(y=y, template='plotly_dark')\n",
    "fig.show()"
   ]
  },
  {
   "cell_type": "markdown",
   "id": "c55350fd",
   "metadata": {},
   "source": [
    "## Custom Controls"
   ]
  },
  {
   "cell_type": "code",
   "execution_count": null,
   "id": "91d327ba",
   "metadata": {},
   "outputs": [],
   "source": [
    "import random\n",
    "rng = random.Random(x=0)"
   ]
  },
  {
   "cell_type": "code",
   "execution_count": null,
   "id": "66056678",
   "metadata": {},
   "outputs": [],
   "source": [
    "x = [rng.gauss(0,1) for _ in range(10000)]\n",
    "data = go.Histogram(x=x, nbinsx=25)\n",
    "fig = go.Figure(data=data)\n",
    "fig.update_xaxes(range=(-10,10))\n",
    "fig.show()"
   ]
  },
  {
   "cell_type": "code",
   "execution_count": null,
   "id": "30cd88e2",
   "metadata": {},
   "outputs": [],
   "source": []
  }
 ],
 "metadata": {
  "kernelspec": {
   "display_name": "Python 3 (ipykernel)",
   "language": "python",
   "name": "python3"
  },
  "language_info": {
   "codemirror_mode": {
    "name": "ipython",
    "version": 3
   },
   "file_extension": ".py",
   "mimetype": "text/x-python",
   "name": "python",
   "nbconvert_exporter": "python",
   "pygments_lexer": "ipython3",
   "version": "3.10.8"
  }
 },
 "nbformat": 4,
 "nbformat_minor": 5
}
