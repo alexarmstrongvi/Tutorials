{
 "cells": [
  {
   "cell_type": "code",
   "execution_count": null,
   "id": "7cd8b0f8",
   "metadata": {},
   "outputs": [],
   "source": [
    "import numpy as np\n",
    "import plotly.express as px\n",
    "import plotly.graph_objects as go"
   ]
  },
  {
   "cell_type": "code",
   "execution_count": null,
   "id": "e5a95800",
   "metadata": {},
   "outputs": [],
   "source": [
    "rng = np.random.default_rng(seed=1)"
   ]
  },
  {
   "cell_type": "markdown",
   "id": "1c2185a1",
   "metadata": {},
   "source": [
    "# Trace Types"
   ]
  },
  {
   "cell_type": "markdown",
   "id": "bcd0059a",
   "metadata": {},
   "source": [
    "# 2D Cartesian"
   ]
  },
  {
   "cell_type": "markdown",
   "id": "66413d7b",
   "metadata": {},
   "source": [
    "## Scatter-like"
   ]
  },
  {
   "cell_type": "code",
   "execution_count": null,
   "id": "0fb76b69",
   "metadata": {},
   "outputs": [],
   "source": [
    "x = rng.normal(size=100)\n",
    "y = rng.normal(size=100)\n",
    "fig = px.line(y=[1,3,2,4,3,5,4,10])\n",
    "fig.show()"
   ]
  },
  {
   "cell_type": "code",
   "execution_count": null,
   "id": "cb2b0040",
   "metadata": {},
   "outputs": [],
   "source": [
    "fig = px.scatter(x=x, y=y)\n",
    "fig.show()"
   ]
  },
  {
   "cell_type": "markdown",
   "id": "8839d468",
   "metadata": {},
   "source": [
    "## Bar-like"
   ]
  },
  {
   "cell_type": "markdown",
   "id": "10ea556a",
   "metadata": {},
   "source": [
    "## 1D distribution-like"
   ]
  },
  {
   "cell_type": "markdown",
   "id": "06141e44",
   "metadata": {},
   "source": [
    "## 2D distribution-like density"
   ]
  },
  {
   "cell_type": "markdown",
   "id": "155a3b96",
   "metadata": {},
   "source": [
    "## Matrix"
   ]
  },
  {
   "cell_type": "markdown",
   "id": "3d622fa5",
   "metadata": {},
   "source": [
    "## Stock"
   ]
  },
  {
   "cell_type": "markdown",
   "id": "1b2e7bd9",
   "metadata": {},
   "source": [
    "## Carpet"
   ]
  },
  {
   "cell_type": "markdown",
   "id": "0458f8e6",
   "metadata": {},
   "source": [
    "## Multi-dimensional scatter"
   ]
  },
  {
   "cell_type": "markdown",
   "id": "7298d6ed",
   "metadata": {},
   "source": [
    "# 2D Non-cartesian"
   ]
  },
  {
   "cell_type": "markdown",
   "id": "f15ab9a7",
   "metadata": {},
   "source": [
    "## Polar"
   ]
  },
  {
   "cell_type": "markdown",
   "id": "bae54cb7",
   "metadata": {},
   "source": [
    "## Ternary"
   ]
  },
  {
   "cell_type": "markdown",
   "id": "b0d9dc20",
   "metadata": {},
   "source": [
    "# 3D Plots"
   ]
  },
  {
   "cell_type": "markdown",
   "id": "9265fc8b",
   "metadata": {},
   "source": [
    "# Maps"
   ]
  },
  {
   "cell_type": "markdown",
   "id": "9734a037",
   "metadata": {},
   "source": [
    "# Other"
   ]
  },
  {
   "cell_type": "markdown",
   "id": "92f2fd76",
   "metadata": {},
   "source": [
    "## Pie chart"
   ]
  },
  {
   "cell_type": "markdown",
   "id": "b0fda3cb",
   "metadata": {},
   "source": [
    "## Tables"
   ]
  },
  {
   "cell_type": "markdown",
   "id": "e1f2b17c",
   "metadata": {},
   "source": [
    "## Carpet"
   ]
  },
  {
   "cell_type": "code",
   "execution_count": null,
   "id": "674ed509",
   "metadata": {},
   "outputs": [],
   "source": []
  }
 ],
 "metadata": {
  "kernelspec": {
   "display_name": "Python 3 (ipykernel)",
   "language": "python",
   "name": "python3"
  },
  "language_info": {
   "codemirror_mode": {
    "name": "ipython",
    "version": 3
   },
   "file_extension": ".py",
   "mimetype": "text/x-python",
   "name": "python",
   "nbconvert_exporter": "python",
   "pygments_lexer": "ipython3",
   "version": "3.10.8"
  }
 },
 "nbformat": 4,
 "nbformat_minor": 5
}
