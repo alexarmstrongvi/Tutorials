{
 "cells": [
  {
   "cell_type": "code",
   "execution_count": null,
   "id": "f0a16029",
   "metadata": {},
   "outputs": [],
   "source": [
    "import sys\n",
    "\n",
    "import numpy as np\n",
    "import tensorflow as tf\n",
    "from tensorflow import keras\n",
    "import matplotlib.pyplot as plt"
   ]
  },
  {
   "cell_type": "code",
   "execution_count": null,
   "id": "3c9f8e56",
   "metadata": {},
   "outputs": [],
   "source": [
    "print(f'''\n",
    "    Python {sys.version}\n",
    "TensorFlow {tf.__version__}\n",
    "''')"
   ]
  },
  {
   "cell_type": "markdown",
   "id": "00e13fff",
   "metadata": {},
   "source": [
    "# Basics"
   ]
  },
  {
   "cell_type": "code",
   "execution_count": null,
   "id": "f553a7cd",
   "metadata": {},
   "outputs": [],
   "source": [
    "def memory_sum(seq_len, weight=1, bias=1, h_weight=1, mem_len=0):\n",
    "    seq = [1]\n",
    "    while len(seq) < seq_len:\n",
    "        input_val = seq[-1]\n",
    "        if mem_len > 0:\n",
    "            mem_sum = sum(seq[-mem_len-1:-1])\n",
    "        elif mem_len == 0:\n",
    "            mem_sum = 0\n",
    "        else:\n",
    "            mem_sum = sum(seq[:-1])\n",
    "        next_val = seq[-1]*weight + bias + mem_sum\n",
    "        seq.append(next_val)\n",
    "    return np.array(seq[:seq_len])\n",
    "print(memory_sum(10))\n",
    "print(memory_sum(10, bias=2))\n",
    "print(memory_sum(10, weight=2, bias=0))\n",
    "print(memory_sum(10, mem_len=1, bias=0))\n",
    "print(memory_sum(10, mem_len=-1, bias=0))"
   ]
  },
  {
   "cell_type": "code",
   "execution_count": null,
   "id": "9ff762b3",
   "metadata": {},
   "outputs": [],
   "source": [
    "# Generate data\n",
    "n_features   = 1\n",
    "sequence_len = 10\n",
    "batch_size   = 1\n",
    "\n",
    "n_entries = sequence_len*batch_size\n",
    "seq = memory_sum(n_entries, weight=2, mem_len=1, bias=3)\n",
    "# seq = memory_sum(n_entries, weight=2)\n",
    "# seq = memory_sum(n_entries, weight=2, mem_len=1)\n",
    "# seq = memory_sum(n_entries, weight=2, mem_len=-1)\n",
    "\n",
    "x = seq.reshape(batch_size, sequence_len, n_features)\n",
    "x_train = x[:, :-1,:]\n",
    "y_train = x[:,1:  ,:] \n",
    "print(f'{x_train.shape = }; {y_train.shape = }')\n",
    "print(x_train[0,:5,0], '...', x_train[0,-2:,0])\n",
    "print(y_train[0,:5,0], '...', y_train[0,-2:,0])\n",
    "# plt.plot(x_train[0,:,:], marker='o')"
   ]
  },
  {
   "cell_type": "code",
   "execution_count": null,
   "id": "24ea7447",
   "metadata": {},
   "outputs": [],
   "source": [
    "# Build model\n",
    "n_input_features  = x_train.shape[-1]\n",
    "n_output_features = y_train.shape[-1]\n",
    "\n",
    "inputs = keras.Input(shape=(None, n_input_features))\n",
    "rnn = keras.layers.SimpleRNN(\n",
    "    n_output_features, \n",
    "    activation            = None,\n",
    "    return_sequences      = True,\n",
    "    return_state          = False,\n",
    "    kernel_initializer    = keras.initializers.constant(tf.constant([[2.0]])),\n",
    "    recurrent_initializer = keras.initializers.constant(tf.constant([[1.0]])),\n",
    "    bias_initializer      = keras.initializers.constant(tf.constant([[3.0]])),\n",
    ")\n",
    "outputs = rnn(inputs)\n",
    "model = keras.Model(inputs, outputs)\n",
    "\n",
    "#opt = keras.optimizers.RMSprop(learning_rate=10e-4)\n",
    "opt = keras.optimizers.Adam(learning_rate=10e-5)\n",
    "model.compile(optimizer=opt, loss='mse', metrics='mae')\n",
    "\n",
    "# Fit\n",
    "X = tf.convert_to_tensor(x_train)\n",
    "y = tf.convert_to_tensor(y_train)\n",
    "history = model.fit(X, y, epochs=0)"
   ]
  },
  {
   "cell_type": "markdown",
   "id": "3e177c88",
   "metadata": {},
   "source": [
    "$$y_t = \\text{weight} \\times x_{t} + \\text{recurrent} \\times h_{t-1} + \\text{bias}$$\n",
    "$$h_{t-1} = y_{t-1}$$"
   ]
  },
  {
   "cell_type": "code",
   "execution_count": null,
   "id": "77a5f90d",
   "metadata": {},
   "outputs": [],
   "source": [
    "w = model.layers[1].get_weights()\n",
    "assert len(w) == 3\n",
    "print(f'''\n",
    "weight    = {w[0][0,0]}\n",
    "recurrent = {w[1][0,0]}\n",
    "bias      = {w[2][0]}\n",
    "''')"
   ]
  },
  {
   "cell_type": "code",
   "execution_count": null,
   "id": "65ae4f00",
   "metadata": {},
   "outputs": [],
   "source": [
    "x_test = x_train[:1,:,:1]\n",
    "y_test = y_train[:1,:,:1]\n",
    "print(x_test.shape)\n",
    "print(x_test[0,-10:,0])\n",
    "print(y_test[0,-10:,0])"
   ]
  },
  {
   "cell_type": "code",
   "execution_count": null,
   "id": "0c6972ed",
   "metadata": {},
   "outputs": [],
   "source": [
    "X = tf.convert_to_tensor(x_test)\n",
    "y = tf.convert_to_tensor(y_test)\n",
    "model.evaluate(X, y)\n",
    "\n",
    "# loss             : 10609411.0000\n",
    "# simple_rnn_loss  :  1324682.6250\n",
    "# simple_rnn_1_loss:  9284728.0000\n",
    "# simple_rnn_mae   :      996.0020\n",
    "# simple_rnn_1_mae :     2992.0000"
   ]
  },
  {
   "cell_type": "code",
   "execution_count": null,
   "id": "428a578a",
   "metadata": {},
   "outputs": [],
   "source": [
    "#y_pred, final_state = model.predict(x_test)\n",
    "#print(f'Final hidden weight = {final_state[0,0]}')\n",
    "y_pred = model.predict(X)\n",
    "print('MAE =', np.abs(y_test - y_pred).mean())"
   ]
  },
  {
   "cell_type": "code",
   "execution_count": null,
   "id": "590c04cb",
   "metadata": {},
   "outputs": [],
   "source": [
    "n = 20\n",
    "print(X[0,:n,0].numpy())\n",
    "print(y_test[0,:n,0])\n",
    "print(y_pred[0,:n,0].astype(int))\n",
    "print(y_pred[0,:n,0].astype(int)-y_test[0,:n,0])"
   ]
  },
  {
   "cell_type": "code",
   "execution_count": null,
   "id": "0e1d85da",
   "metadata": {},
   "outputs": [],
   "source": [
    "#plt.plot(x_test[0,:,0], label='Input')\n",
    "plt.plot(y_test[0,:,0], label='True')\n",
    "plt.plot(y_pred[0,:,0], label='Pred')\n",
    "plt.legend()"
   ]
  },
  {
   "cell_type": "code",
   "execution_count": null,
   "id": "f1d389b5",
   "metadata": {},
   "outputs": [],
   "source": [
    "plt.plot(y_pred[0,:,0] - y_test[0,:,0])\n",
    "plt.xlabel('Epoch')\n",
    "plt.ylabel('Pred - True')"
   ]
  },
  {
   "cell_type": "markdown",
   "id": "2d3fb6ea",
   "metadata": {},
   "source": [
    "# NumPy Implementation"
   ]
  },
  {
   "cell_type": "code",
   "execution_count": null,
   "id": "d19e367e",
   "metadata": {},
   "outputs": [],
   "source": [
    "inputs = np.array([1, 5, 14, 36, 89, 217, 526, 1272, 3073, 7421]).reshape(-1,1)\n",
    "seq_len, input_features = inputs.shape\n",
    "output_features = input_features\n",
    "print(seq_len, input_features)\n",
    "\n",
    "W = np.array([[2]])\n",
    "U = np.array([[1]])\n",
    "b = np.array([3])\n",
    "state_t = np.array([0])\n",
    "\n",
    "successive_outputs = []\n",
    "for input_t in inputs:\n",
    "    output_t = np.dot(W, input_t) + np.dot(U, state_t) + b\n",
    "    print(f\"RNN({input_t}) = {np.dot(W, input_t)} + {np.dot(U, state_t)} + {b} = {output_t}\")\n",
    "    successive_outputs.append(output_t)\n",
    "    state_t = output_t\n",
    "final_output_sequence = np.stack(successive_outputs)\n",
    "print(final_output_sequence[:,0])\n",
    "print(inputs[1:,0])\n"
   ]
  },
  {
   "cell_type": "code",
   "execution_count": null,
   "id": "4dcef3e9",
   "metadata": {},
   "outputs": [],
   "source": [
    "np.array([[1, 5, 14, 36, 89, 217, 526, 1272, 3073, 7421]]).shape"
   ]
  },
  {
   "cell_type": "code",
   "execution_count": null,
   "id": "b45e65cb",
   "metadata": {},
   "outputs": [],
   "source": []
  }
 ],
 "metadata": {
  "kernelspec": {
   "display_name": "Python 3 (ipykernel)",
   "language": "python",
   "name": "python3"
  },
  "language_info": {
   "codemirror_mode": {
    "name": "ipython",
    "version": 3
   },
   "file_extension": ".py",
   "mimetype": "text/x-python",
   "name": "python",
   "nbconvert_exporter": "python",
   "pygments_lexer": "ipython3",
   "version": "3.10.8"
  },
  "vscode": {
   "interpreter": {
    "hash": "119104248e38f5e25e0db502020f7522c1bb5c9d0978b5a9b44be0ba4cd04f31"
   }
  }
 },
 "nbformat": 4,
 "nbformat_minor": 5
}
