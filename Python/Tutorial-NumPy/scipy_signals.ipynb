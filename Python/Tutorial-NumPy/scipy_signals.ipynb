{
 "cells": [
  {
   "cell_type": "code",
   "execution_count": null,
   "id": "f807e2a9-5a0e-4706-a7d7-73e56667777f",
   "metadata": {
    "tags": []
   },
   "outputs": [],
   "source": [
    "import sys\n",
    "print(f'Python: {sys.version}')"
   ]
  },
  {
   "cell_type": "code",
   "execution_count": null,
   "id": "f3b1cd38-7ed3-4919-b13e-bccdc96afaf8",
   "metadata": {
    "tags": []
   },
   "outputs": [],
   "source": [
    "from pprint import pprint\n",
    "import math\n",
    "import itertools\n",
    "\n",
    "import numpy as np\n",
    "import pandas as pd\n",
    "import scipy\n",
    "from scipy import signal, fft, datasets\n",
    "import matplotlib as mpl\n",
    "import matplotlib.pyplot as plt\n",
    "import seaborn as sns"
   ]
  },
  {
   "cell_type": "markdown",
   "id": "df6926ae-b257-4d6c-a7ae-6fb518a55f8c",
   "metadata": {
    "tags": []
   },
   "source": [
    "# Fourier Transform"
   ]
  },
  {
   "cell_type": "code",
   "execution_count": null,
   "id": "cca8719d-c4f6-4959-9ac1-df0f48ba112e",
   "metadata": {
    "tags": []
   },
   "outputs": [],
   "source": [
    "def visualize_fourier_analysis(\n",
    "    freqs, \n",
    "    sample_rate, \n",
    "    duration, \n",
    "    phase = 0, \n",
    "    constant = 0,\n",
    "    normalize = False,\n",
    "    logy=False, \n",
    "    add_alias=False,\n",
    "    window_func=None,\n",
    "):\n",
    "    if isinstance(freqs, (int, float)):\n",
    "        freqs = list(freqs)\n",
    "    freqs = np.array(freqs)\n",
    "    n_samples = int(sample_rate * duration)\n",
    "    sample_spacing = 1/sample_rate\n",
    "    n_periods = duration * freqs\n",
    "    n_samples_per_period = n_samples/n_periods\n",
    "    f_nyquist = 0.5*sample_rate\n",
    "\n",
    "    t = np.linspace(0, duration, n_samples, endpoint=False)\n",
    "    t_full = np.linspace(0, duration, 1000, endpoint=False)\n",
    "    \n",
    "    y = np.zeros_like(t)\n",
    "    y_ideal = np.zeros_like(t_full)\n",
    "    y_alias = np.zeros_like(t_full)\n",
    "    peak_freq = freqs[0] # First frequency has largest amplitude\n",
    "    freqs_alias = np.zeros_like(freqs)\n",
    "    for idx, f in enumerate(freqs,1):\n",
    "        y += (1/idx) * np.cos(2*np.pi*f*t + phase) + constant\n",
    "        y_ideal += (1/idx) * np.cos(2*np.pi*f*t_full + phase) + constant\n",
    "        \n",
    "        if f < f_nyquist:\n",
    "            diff = f_nyquist - f\n",
    "            f_alias = f_nyquist + diff\n",
    "            phase_alias = -phase\n",
    "        elif f == f_nyquist:\n",
    "            f_alias = f_nyquist + sample_rate\n",
    "            phase_alias = phase\n",
    "        else:\n",
    "            f_mod = f % sample_rate\n",
    "            phase_alias = -phase if f_mod > f_nyquist else phase\n",
    "            diff = np.abs(f_mod - f_nyquist)\n",
    "            f_alias = f_nyquist - diff\n",
    "        freqs_alias[idx-1] = f_alias\n",
    "        y_alias += (1/idx) * np.cos(2*np.pi*f_alias*t_full + phase_alias) + constant\n",
    "    \n",
    "    if normalize:\n",
    "        y /= len(y)\n",
    "        y_ideal /= len(y_ideal)\n",
    "        y_alias /= len(y_alias)\n",
    "    if window_func is not None:\n",
    "        y *= window_func(len(y))\n",
    "        y_ideal *= window_func(len(y_ideal))\n",
    "        y_alias *= window_func(len(y_alias))\n",
    "\n",
    "    fft_coef = fft.rfft(y)\n",
    "    fft_mag = np.abs(fft_coef)\n",
    "    fft_phase = np.angle(fft_coef)\n",
    "    fft_freq = fft.rfftfreq(n_samples, sample_spacing)\n",
    "    freq_bin_width = np.unique(np.diff(fft_freq))[0] # always 1 / duration\n",
    "    freq_bin_prec = math.ceil(np.log10(duration))+1\n",
    "    freq_bin_width_str = str(round(freq_bin_width, freq_bin_prec))\n",
    "    f_nyquist_str = str(round(f_nyquist, freq_bin_prec))\n",
    "\n",
    "    y_shift = fft_mag[0] / n_samples\n",
    "    fft_peak_idx = np.argmax(fft_mag[1:]) + 1 # Ignore 0Hz freq\n",
    "    fft_peak_mag = fft_freq[fft_peak_idx]\n",
    "    fft_peak_phase = fft_phase[fft_peak_idx]\n",
    "    \n",
    "    y_fft_peak = np.cos(2*np.pi*fft_peak_mag*t_full + fft_peak_phase) + y_shift\n",
    "\n",
    "    if normalize:\n",
    "        y_fft_peak /= len(y_fft_peak)\n",
    "    if window_func is not None:\n",
    "        y_fft_peak *= window_func(len(y_fft_peak))\n",
    "    ################################################################################\n",
    "    # Plotting\n",
    "    fig, axs = plt.subplots(4, figsize=(10,7))\n",
    "    ax = axs[0]\n",
    "    freqs_str = '+'.join([f'{f}Hz' for f in freqs])\n",
    "    ax.plot(t_full, y_ideal, ':', label=f'Truth [{freqs_str}]')\n",
    "    if add_alias:\n",
    "        freqs_alias_str = '+'.join([f'{f}Hz' for f in freqs_alias])\n",
    "        ax.plot(t_full, y_alias, ':', label=f'Alias [{freqs_alias_str}]')\n",
    "    ax.scatter(t, y, color='k', marker='o', s=10, label=f'Sampled Data [{sample_rate}Hz]')\n",
    "    ax.axhline(0, c='k')\n",
    "    ax.set_title(f'Sampled Data [N={n_samples}]')\n",
    "    ax.set_xlabel('Time (s)')\n",
    "    ax.grid()\n",
    "    ax.legend(loc='upper right')\n",
    "\n",
    "    ax = axs[1]\n",
    "    ax.scatter(fft_freq, fft_mag, marker='x', s=50)\n",
    "    if logy:\n",
    "        ax.set_yscale(\"log\")\n",
    "    for idx, f in enumerate(freqs):\n",
    "        lw = 3 if idx == 0 else 1\n",
    "        label = f'Truth [{peak_freq}Hz]' if idx==0 else None\n",
    "        ax.axvline(f, c='g', lw=lw, label=label)\n",
    "    ax.axvline(fft_peak_mag, c='k', ls=':', label=f'FFT Peak [{fft_peak_mag:.1f}Hz]')\n",
    "\n",
    "    bin_width = round(freq_bin_width, math.ceil(np.log10(duration)))\n",
    "    \n",
    "    ax.set_title(f'Fourier Transform Amplitudes [$f_{{Nyquist}}$= {f_nyquist_str}Hz; Bin width={freq_bin_width_str:}Hz; FFT Peak={fft_peak_mag:.1f}Hz]')\n",
    "    ax.set_xlabel('Frequency (Hz)')\n",
    "    ax.set_ylabel('Amplitude')\n",
    "    ax.grid()\n",
    "    ax.legend(loc='upper right')\n",
    "    \n",
    "    ax = axs[2]\n",
    "    ax.scatter(fft_freq, fft_phase/np.pi, marker='x', s=50)\n",
    "    ax.axvline(freqs[0], color='g', ls=':')\n",
    "    ax.scatter(freqs[0], phase/np.pi, c='g', marker='+', s=200, label=f'Truth [{phase/np.pi}$\\pi$ rad]')\n",
    "    ax.scatter(fft_peak_mag, fft_peak_phase/np.pi, marker='o', facecolors='none', edgecolors='k', label=f'FFT Peak [{fft_peak_phase/np.pi:.1f}$\\pi$ rad]')\n",
    "    ax.set_title('Fourier Transform Phase')\n",
    "    ax.set_xlabel('Frequency (Hz)')\n",
    "    ax.set_ylabel('Phase ($\\pi$ rad)')\n",
    "    ax.set_ylim(-1.1, 1.1)\n",
    "    ax.grid()\n",
    "    ax.legend(loc='upper right')  \n",
    "\n",
    "    ax = axs[3]\n",
    "    ax.plot(t,y, lw=3, label='Data')\n",
    "    ax.plot(t_full, y_fft_peak, label=f'FFT Peak [{fft_peak_mag:.1f}Hz]')\n",
    "    ax.set_title('Data vs FFT Peak Frequency')\n",
    "    ax.set_xlabel('Time (s)')\n",
    "    ax.grid()\n",
    "    ax.legend(loc='upper right')\n",
    "\n",
    "    summary = f'Samples per period = {n_samples_per_period}'\n",
    "    fig.tight_layout()"
   ]
  },
  {
   "cell_type": "markdown",
   "id": "bd34cd05-62c1-47cf-803b-535c362b8a6a",
   "metadata": {},
   "source": [
    "What explains these features of the discrete fourier transform below?\n",
    "* The range of frequencies considered (i.e. nyquist frequency)?\n",
    "* The spacing between frequencies (i.e. frequency bin width)?\n",
    "* The amplitude of the peak?\n",
    "\n",
    "What is the impact of\n",
    "* Adding a constant\n",
    "* Changing the phase\n",
    "* A signal frequency being above the nyquist frequency?\n",
    "* The data containing a non-integer number of signal periods?"
   ]
  },
  {
   "cell_type": "code",
   "execution_count": null,
   "id": "e49608a3-309f-4d14-8dcc-a988f7961e39",
   "metadata": {
    "tags": []
   },
   "outputs": [],
   "source": [
    "visualize_fourier_analysis(\n",
    "    freqs       = [1], # Hz\n",
    "    sample_rate = 10, # Hz\n",
    "    duration    = 5, # seconds\n",
    "    #constant    = 1,\n",
    "    #phase       = 0.5 * np.pi, # radians\n",
    "    #normalize   = True,\n",
    "    #add_alias   = True,\n",
    "    #logy        = True,\n",
    "    #window_func = signal.windows.blackman\n",
    ")"
   ]
  },
  {
   "cell_type": "markdown",
   "id": "a5c255b5-2f86-49d8-a2e9-fce6fd4b678f",
   "metadata": {},
   "source": [
    "Future directions\n",
    "1. Handling complex input data\n",
    "1. Handling increased data dimenstions: N-dimensional Fourier Transforms\n",
    "1. Handling different basis functions for the transform: Discrete Sin/Cosine Transforms\n",
    "1. Handling non-uniformly spaced data: nonuniform discrete Fourier transform (NUDFT or NDFT), Hankel Transform, Least-squares spectral analysis \n",
    "1. Handling periodic and non-periodic noise (e.g. filtering, smoothing)\n",
    "1. Handle non-periodic signals: Waveletes"
   ]
  },
  {
   "cell_type": "markdown",
   "id": "cde7caed-5882-4d03-8f70-4136d85c0c41",
   "metadata": {
    "tags": []
   },
   "source": [
    "# Scipy Signal Processing"
   ]
  },
  {
   "cell_type": "markdown",
   "id": "c5b171c5-6d7b-4b8e-9612-619fd2f822a8",
   "metadata": {
    "jp-MarkdownHeadingCollapsed": true,
    "tags": []
   },
   "source": [
    "## All module methods/attributes"
   ]
  },
  {
   "cell_type": "code",
   "execution_count": null,
   "id": "3b5b55ce-53d6-462d-8d71-cb2a72ee2cdf",
   "metadata": {
    "tags": []
   },
   "outputs": [],
   "source": [
    "# pprint([x for x in dir(signal) if not x.startswith('_')])\n",
    "\n",
    "################################################################################\n",
    "# Convolution and Correlation\n",
    "# signal.convolve()\n",
    "# signal.convolve2d()\n",
    "# signal.deconvolve()\n",
    "# signal.fftconvolve()\n",
    "# signal.oaconvolve()\n",
    "# signal.sepfir2d\n",
    "\n",
    "# signal.correlate()\n",
    "# signal.correlate2d()\n",
    "# signal.correlation_lags()\n",
    "\n",
    "################################################################################\n",
    "# Windows (scipy.signal.windows)\n",
    "windows = {\n",
    "    'signal.barthann()',\n",
    "    'signal.bartlett()',\n",
    "    'signal.blackman()',\n",
    "    'signal.blackmanharris()',\n",
    "    'signal.bohman()',\n",
    "    'signal.boxcar()',\n",
    "    'signal.chebwin()',\n",
    "    'signal.cosine()',\n",
    "    'signal.exponential()',\n",
    "    'signal.flattop()',\n",
    "    'signal.gaussian()',\n",
    "    'signal.general_gaussian()',\n",
    "    'signal.get_window()',\n",
    "    'signal.hamming()',\n",
    "    'signal.hann()',\n",
    "    'signal.kaiser()',\n",
    "    'signal.nuttall()',\n",
    "    'signal.parzen()',\n",
    "    'signal.triang()',\n",
    "    'signal.tukey()',\n",
    "}\n",
    "# signal.windows.kaiser_bessel_derived()\n",
    "# signal.windows.general_cosine()\n",
    "# signal.windows.lanczos()\n",
    "# signal.windows.dpss()\n",
    "# signal.windows.taylor()\n",
    "# signal.windows.general_hamming()\n",
    "\n",
    "################################################################################\n",
    "# Difference equation filtering \n",
    "# signals.lfilter()\n",
    "# signals.lfilter_zi()\n",
    "# signals.lfiltic()\n",
    "\n",
    "################################################################################\n",
    "# Unsorted\n",
    "# signal.BadCoefficients\n",
    "# signal.CZT\n",
    "# signal.StateSpace\n",
    "# signal.TransferFunction\n",
    "# signal.ZerosPolesGain\n",
    "# signal.ZoomFFT\n",
    "# signals.abcd_normalize()\n",
    "# signals.argrelextrema()\n",
    "# signals.argrelmax()\n",
    "# signals.argrelmin()\n",
    "# signals.band_stop_obj()\n",
    "# signals.bessel()\n",
    "# signals.besselap()\n",
    "# signals.bilinear()\n",
    "# signals.bilinear_zpk()\n",
    "# signals.bode()\n",
    "# signals.bspline()\n",
    "# signals.bsplines()\n",
    "# signals.buttap()\n",
    "# signals.butter()\n",
    "# signals.buttord()\n",
    "# signals.cascade()\n",
    "# signals.cheb1ap()\n",
    "# signals.cheb1ord()\n",
    "# signals.cheb2ap()\n",
    "# signals.cheb2ord()\n",
    "# signals.cheby1()\n",
    "# signals.cheby2()\n",
    "# signals.check_COLA()\n",
    "# signals.check_NOLA()\n",
    "# signals.chirp()\n",
    "# signals.choose_conv_method()\n",
    "# signals.cmplx_sort()\n",
    "# signals.coherence()\n",
    "# signals.cont2discrete()\n",
    "# signals.csd()\n",
    "# signals.cspline1d()\n",
    "# signals.cspline1d_eval()\n",
    "# signals.cspline2d()\n",
    "# signals.cubic()\n",
    "# signals.cwt()\n",
    "# signals.czt()\n",
    "# signals.czt_points()\n",
    "# signals.daub()\n",
    "# signals.dbode()\n",
    "# signals.decimate()\n",
    "# signals.detrend()\n",
    "# signals.dfreqresp()\n",
    "# signals.dimpulse()\n",
    "# signals.dlsim()\n",
    "# signals.dlti()\n",
    "# signals.dstep()\n",
    "# signals.ellip()\n",
    "# signals.ellipap()\n",
    "# signals.ellipord()\n",
    "# signals.filter_design()\n",
    "# signals.filtfilt()\n",
    "# signals.find_peaks()\n",
    "# signals.find_peaks_cwt()\n",
    "# signals.findfreqs()\n",
    "# signals.fir_filter_design()\n",
    "# signals.firls()\n",
    "# signals.firwin()\n",
    "# signals.firwin2()\n",
    "# signals.freqresp()\n",
    "# signals.freqs()\n",
    "# signals.freqs_zpk()\n",
    "# signals.freqz()\n",
    "# signals.freqz_zpk()\n",
    "# signals.gammatone()\n",
    "# signals.gauss_spline()\n",
    "# signals.gausspulse()\n",
    "# signals.group_delay()\n",
    "# signals.hilbert()\n",
    "# signals.hilbert2()\n",
    "# signals.iircomb()\n",
    "# signals.iirdesign()\n",
    "# signals.iirfilter()\n",
    "# signals.iirnotch()\n",
    "# signals.iirpeak()\n",
    "# signals.impulse()\n",
    "# signals.impulse2()\n",
    "# signals.invres()\n",
    "# signals.invresz()\n",
    "# signals.istft()\n",
    "# signals.kaiser_atten()\n",
    "# signals.kaiser_beta()\n",
    "# signals.kaiserord()\n",
    "# signals.lombscargle()\n",
    "# signals.lp2bp()\n",
    "# signals.lp2bp_zpk()\n",
    "# signals.lp2bs()\n",
    "# signals.lp2bs_zpk()\n",
    "# signals.lp2hp()\n",
    "# signals.lp2hp_zpk()\n",
    "# signals.lp2lp()\n",
    "# signals.lp2lp_zpk()\n",
    "# signals.lsim()\n",
    "# signals.lsim2()\n",
    "# signals.lti()\n",
    "# signals.lti_conversion()\n",
    "# signals.ltisys()\n",
    "# signals.max_len_seq()\n",
    "# signals.medfilt()\n",
    "# signals.medfilt2d()\n",
    "# signals.minimum_phase()\n",
    "# signals.morlet()\n",
    "# signals.morlet2()\n",
    "# signals.normalize()\n",
    "# signals.order_filter()\n",
    "# signals.peak_prominences()\n",
    "# signals.peak_widths()\n",
    "# signals.periodogram()\n",
    "# signals.place_poles()\n",
    "# signals.qmf()\n",
    "# signals.qspline1d()\n",
    "# signals.qspline1d_eval()\n",
    "# signals.qspline2d()\n",
    "# signals.quadratic()\n",
    "# signals.remez()\n",
    "# signals.resample()\n",
    "# signals.resample_poly()\n",
    "# signals.residue()\n",
    "# signals.residuez()\n",
    "# signals.ricker()\n",
    "# signals.savgol_coeffs()\n",
    "# signals.savgol_filter()\n",
    "# signals.sawtooth()\n",
    "# signals.signaltools()\n",
    "# signals.sos2tf()\n",
    "# signals.sos2zpk()\n",
    "# signals.sosfilt()\n",
    "# signals.sosfilt_zi()\n",
    "# signals.sosfiltfilt()\n",
    "# signals.sosfreqz()\n",
    "# signals.spectral()\n",
    "# signals.spectrogram()\n",
    "# signals.spline()\n",
    "# signals.spline_filter()\n",
    "# signals.square()\n",
    "# signals.ss2tf()\n",
    "# signals.ss2zpk()\n",
    "# signals.step()\n",
    "# signals.step2()\n",
    "# signals.stft()\n",
    "# signals.sweep_poly()\n",
    "# signals.symiirorder1()\n",
    "# signals.symiirorder2()\n",
    "# signals.test()\n",
    "# signals.tf2sos()\n",
    "# signals.tf2ss()\n",
    "# signals.tf2zpk()\n",
    "# signals.unique_roots()\n",
    "# signals.unit_impulse()\n",
    "# signals.upfirdn()\n",
    "# signals.vectorstrength()\n",
    "# signals.waveforms()\n",
    "# signals.wavelets()\n",
    "# signals.welch()\n",
    "# signals.wiener()\n",
    "# signals.zoom_fft()\n",
    "# signals.zpk2sos()\n",
    "# signals.zpk2ss()\n",
    "# signals.zpk2tf()"
   ]
  },
  {
   "cell_type": "markdown",
   "id": "81080e2f-16f6-4513-a4c1-9c56a5878f77",
   "metadata": {
    "tags": []
   },
   "source": [
    "## B-Splines"
   ]
  },
  {
   "cell_type": "code",
   "execution_count": null,
   "id": "1d45102f-7acb-4f3e-8b7f-da243042330a",
   "metadata": {},
   "outputs": [],
   "source": []
  },
  {
   "cell_type": "markdown",
   "id": "4bcfb26f-cafd-4277-bdfd-ce01e8ab48fe",
   "metadata": {},
   "source": [
    "# Windows"
   ]
  },
  {
   "cell_type": "code",
   "execution_count": null,
   "id": "ab1c476a-005b-4657-a224-7c1d64eae283",
   "metadata": {},
   "outputs": [],
   "source": []
  },
  {
   "cell_type": "markdown",
   "id": "96ace33d-637b-4a60-8973-2be8ae9a2600",
   "metadata": {
    "jp-MarkdownHeadingCollapsed": true,
    "tags": []
   },
   "source": [
    "# Filters"
   ]
  },
  {
   "cell_type": "markdown",
   "id": "59c93663-d087-4a2c-8e3b-618fad8ceb5c",
   "metadata": {},
   "source": [
    "Terms\n",
    "* Filter - any operation modifying an input signal\n",
    "* Types of filters\n",
    "    * Linearity\n",
    "        * Linear - representable with matrix multiplication\n",
    "        * Non-Linear\n",
    "    * Shift-invariance\n",
    "    * Time-discrete filters\n",
    "        * Finite response (FIR)\n",
    "        * Infinite response (IIR)"
   ]
  },
  {
   "cell_type": "markdown",
   "id": "17804cf3-9099-4296-87c6-b308b8459204",
   "metadata": {
    "tags": []
   },
   "source": [
    "## `windows`"
   ]
  },
  {
   "cell_type": "code",
   "execution_count": null,
   "id": "ddd685ee-e696-43b6-b15c-f01ede14af88",
   "metadata": {
    "tags": []
   },
   "outputs": [],
   "source": [
    "window_functions = [\n",
    "    f for f in dir(signal.windows) \n",
    "    if not (f.startswith('_') or f in ['get_window', 'windows'])\n",
    "]\n",
    "print(window_functions)"
   ]
  },
  {
   "cell_type": "code",
   "execution_count": null,
   "id": "cc2a5421-45bd-44ac-9f07-4bd05b5864d9",
   "metadata": {
    "tags": []
   },
   "outputs": [],
   "source": [
    "n = math.ceil(math.sqrt(len(window_functions)))\n",
    "fig, axs = plt.subplots(n,n, figsize=(3*n, 3*n))\n",
    "N = 101\n",
    "for i, window in enumerate(window_functions):\n",
    "    row, col = divmod(i, n)\n",
    "    ax = axs[row, col]\n",
    "    ax.set_title(window.title())\n",
    "    if window == 'kaiser':\n",
    "        window_arg = (window, 5) # beta    \n",
    "    elif window == 'kaiser_bessel_derived':\n",
    "        pass\n",
    "    elif window == 'gaussian':\n",
    "        window_arg = (window, 7) # standard deviation\n",
    "    elif window == 'general_cosine':\n",
    "        HFT90D = [1, 1.942604, 1.340318, 0.440811, 0.043097]\n",
    "        window_arg = (window, HFT90D) # weighting_coefficients\n",
    "    elif window == 'general_gaussian':\n",
    "        window_arg = (window, 1.5, 7) # power, width\n",
    "    elif window == 'general_hamming':\n",
    "        window_arg = (window, 0.7) # window_coefficient\n",
    "    elif window == 'dpss':\n",
    "        window_arg = (window, 3) # normalized_half_bandwidth\n",
    "    elif window == 'chebwin':\n",
    "        window_arg = (window, 100) # attenuation\n",
    "    else:\n",
    "        window_arg = window\n",
    "    \n",
    "    if window == 'kaiser_bessel_derived':\n",
    "        # Doesn't work with get_window for some reason\n",
    "        ax.plot(signal.windows.kaiser_bessel_derived(N-1, 5))\n",
    "    else:\n",
    "        ax.plot(signal.get_window(window_arg, N))\n",
    "    \n",
    "    ax.set_xlim(-10, N+10)\n",
    "    ax.set_ylim(-0.1,1.1)\n",
    "    ax.grid()\n",
    "fig.tight_layout()\n",
    "    "
   ]
  },
  {
   "cell_type": "markdown",
   "id": "fd2bd585-3d3d-4250-b796-5c3a2d94da89",
   "metadata": {
    "jp-MarkdownHeadingCollapsed": true,
    "tags": []
   },
   "source": [
    "## `convolve` and `correlate`"
   ]
  },
  {
   "cell_type": "code",
   "execution_count": null,
   "id": "be82c444-4e1c-448f-ba05-1f3d7f655696",
   "metadata": {
    "tags": []
   },
   "outputs": [],
   "source": [
    "# What is a good example to highlight the speed difference of fft vs direct?\n",
    "# When to use convolve vs correlate?\n",
    "\n",
    "mode_opts = ['full', 'same', 'valid']\n",
    "method_opts = ['fft', 'direct'] # method = 'fft' => fftconvolve\n",
    "n_convolutions = 1\n",
    "\n",
    "sig = np.repeat([0,1,0], N)\n",
    "filt = np.zeros(N)\n",
    "\n",
    "i_start = math.ceil(N * (1/4))\n",
    "i_end = math.floor(N * (3/4))\n",
    "filt[i_start:i_end] = np.linspace(0,1,i_end-i_start)\n",
    "\n",
    "opts = list(itertools.product(mode_opts, method_opts))\n",
    "n_rows = len(opts)+1\n",
    "fig, axs = plt.subplots(n_rows,1,figsize=(5, n_rows*3))\n",
    "\n",
    "for idx, (mode, method) in enumerate(opts):\n",
    "    sig_conv = sig.copy()\n",
    "    norm = 1/filt.sum()\n",
    "    for i in range(n_convolutions):\n",
    "        sig_conv = signal.convolve(sig_conv, filt, mode, method)\n",
    "    \n",
    "    ax = axs[idx+1]\n",
    "    ax.set_title(f'Mode = {mode}; Method = {method}')\n",
    "    ax.plot(sig_conv)\n",
    "    ax.grid()\n",
    "\n",
    "ax = axs[0]\n",
    "ax.plot(sig, label='Signal')\n",
    "ax.plot(filt, label='Filter')\n",
    "ax.grid()\n",
    "ax.legend()\n",
    "fig.tight_layout()"
   ]
  },
  {
   "cell_type": "markdown",
   "id": "feea9f5a-8c8d-4196-a8d7-295660ab23c2",
   "metadata": {},
   "source": [
    "## `lfilter`"
   ]
  },
  {
   "cell_type": "markdown",
   "id": "d4c71a04-3799-4ca7-9cc8-084430359a11",
   "metadata": {
    "tags": []
   },
   "source": [
    "Difference-equation filtering"
   ]
  },
  {
   "cell_type": "code",
   "execution_count": null,
   "id": "5e79a9bc-aaee-4115-be40-f8a9105b248b",
   "metadata": {},
   "outputs": [],
   "source": [
    "signal.lfilter()"
   ]
  },
  {
   "cell_type": "markdown",
   "id": "e4f1560f-bed6-48db-8e97-9d51d5e44614",
   "metadata": {
    "jp-MarkdownHeadingCollapsed": true,
    "tags": []
   },
   "source": [
    "## Spectral Analysis"
   ]
  },
  {
   "cell_type": "code",
   "execution_count": null,
   "id": "5021b56f-23cf-40da-bb95-42707fd6a353",
   "metadata": {},
   "outputs": [],
   "source": []
  },
  {
   "cell_type": "markdown",
   "id": "f50441d1-3220-44ce-9fc6-99bb3e6a4b95",
   "metadata": {
    "jp-MarkdownHeadingCollapsed": true,
    "tags": []
   },
   "source": [
    "## Short-time Fourier Transform"
   ]
  },
  {
   "cell_type": "code",
   "execution_count": null,
   "id": "02fd0188-6d9a-48e7-a60d-b30726b8a6ba",
   "metadata": {},
   "outputs": [],
   "source": []
  },
  {
   "cell_type": "markdown",
   "id": "3e9cf5eb-17a0-4233-9cf3-63b3a48415e0",
   "metadata": {
    "tags": []
   },
   "source": [
    "## Detrend"
   ]
  },
  {
   "cell_type": "code",
   "execution_count": null,
   "id": "fa8f40ec-3d90-4fde-b27d-7e40aa7e1ff8",
   "metadata": {},
   "outputs": [],
   "source": []
  },
  {
   "cell_type": "markdown",
   "id": "0b5f6eac-8dcd-4523-9f72-87a8fa3020ee",
   "metadata": {
    "tags": []
   },
   "source": [
    "# Spectral Analysis"
   ]
  },
  {
   "cell_type": "code",
   "execution_count": null,
   "id": "a7e69818-6ab3-4715-979b-64c31890b723",
   "metadata": {
    "tags": []
   },
   "outputs": [],
   "source": [
    "fs = 10e3\n",
    "N = 10**5\n",
    "amp = 2*np.sqrt(2)\n",
    "freq = 1270.0\n",
    "noise_power = 0.001 * fs / 2\n",
    "time = np.arange(N) / fs\n",
    "x = amp*np.sin(2*np.pi*freq*time)\n",
    "x += np.random.normal(scale=np.sqrt(noise_power), size=time.shape)\n",
    "\n",
    "# Periodogram\n",
    "f, Pper_spec = signal.periodogram(x, fs, 'flattop', scaling='spectrum')\n",
    "# Full FFT Transform\n",
    "fft_coef = fft.rfft(x)\n",
    "fft_freq = fft.rfftfreq(N, 1/fs)\n",
    "fft_amp  = np.abs(fft_coef) / N\n",
    "fft_density = 2 * fft_amp**2\n",
    "\n",
    "plt.plot(f, Pper_spec, label='Periodogram', linewidth=4)\n",
    "plt.xlabel('frequency [Hz]')\n",
    "plt.ylabel('PSD')\n",
    "plt.grid()\n",
    "plt.plot(fft_freq, fft_density, label='FFT Power')\n",
    "plt.semilogy()\n",
    "plt.legend()\n",
    "plt.show()\n"
   ]
  },
  {
   "cell_type": "markdown",
   "id": "84b34aca-49f8-479f-95cb-d43cca6fe200",
   "metadata": {
    "jp-MarkdownHeadingCollapsed": true,
    "tags": []
   },
   "source": [
    "# Detrend"
   ]
  },
  {
   "cell_type": "code",
   "execution_count": null,
   "id": "cd86c875-7e5d-4ac2-a4ee-ed8404e7572a",
   "metadata": {},
   "outputs": [],
   "source": []
  },
  {
   "cell_type": "markdown",
   "id": "e6c39b77-7326-44af-ba3d-2e9613f803a2",
   "metadata": {},
   "source": [
    "# Other"
   ]
  },
  {
   "cell_type": "code",
   "execution_count": null,
   "id": "cba4f5e9-4385-46de-8049-b4ed7f11242f",
   "metadata": {},
   "outputs": [],
   "source": []
  }
 ],
 "metadata": {
  "kernelspec": {
   "display_name": "Python 3 (ipykernel)",
   "language": "python",
   "name": "python3"
  },
  "language_info": {
   "codemirror_mode": {
    "name": "ipython",
    "version": 3
   },
   "file_extension": ".py",
   "mimetype": "text/x-python",
   "name": "python",
   "nbconvert_exporter": "python",
   "pygments_lexer": "ipython3",
   "version": "3.11.4"
  }
 },
 "nbformat": 4,
 "nbformat_minor": 5
}
