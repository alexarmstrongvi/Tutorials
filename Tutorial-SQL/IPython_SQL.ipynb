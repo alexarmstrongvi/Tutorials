{
 "cells": [
  {
   "cell_type": "markdown",
   "id": "cb7da16b",
   "metadata": {},
   "source": [
    "# IPython SQL"
   ]
  },
  {
   "cell_type": "markdown",
   "id": "acddb685",
   "metadata": {},
   "source": [
    "`ipython-sql` is an IPython extension that allows the user to use SQL within IPython and Jupyter.\n",
    "\n",
    "It utilizes SQLAlchemy under the hood and most (all?) of the magic functions included in the package can be mimicked with more explicit SQLAlchemy (but who has time for that)"
   ]
  },
  {
   "cell_type": "markdown",
   "id": "84246109",
   "metadata": {},
   "source": [
    "**Load extenstion**"
   ]
  },
  {
   "cell_type": "code",
   "execution_count": null,
   "id": "58adb56f",
   "metadata": {},
   "outputs": [],
   "source": [
    "%load_ext sql"
   ]
  },
  {
   "cell_type": "markdown",
   "id": "d4fc542d",
   "metadata": {},
   "source": [
    "## Create a database"
   ]
  },
  {
   "cell_type": "code",
   "execution_count": null,
   "id": "4df23110",
   "metadata": {},
   "outputs": [],
   "source": [
    "%sql sqlite:///test.db\n",
    "#%sql mysql://test.db\n",
    "#%sql presto://test.db\n",
    "# other Engines compatible with SQLAlchemy"
   ]
  },
  {
   "cell_type": "code",
   "execution_count": null,
   "id": "9679d297",
   "metadata": {},
   "outputs": [],
   "source": [
    "%%sql\n",
    "DROP TABLE IF EXISTS test_tbl;\n",
    "CREATE TABLE IF NOT EXISTS test_tbl (col_nul, col_int, col_flt, col_str);\n",
    "INSERT INTO test_tbl\n",
    "VALUES (NULL, 1, 1.5, 'A'),\n",
    "       (NULL, 2, 2.5, 'B'),\n",
    "       (NULL, 3, 3.5, 'B'),\n",
    "       (NULL, 4, 3.5, 'C'),\n",
    "       (NULL, 5, 4.5, 'C');\n",
    "SELECT * FROM test_tbl;"
   ]
  },
  {
   "cell_type": "markdown",
   "id": "78ff5183",
   "metadata": {},
   "source": [
    "## Disconnect a database"
   ]
  },
  {
   "cell_type": "markdown",
   "id": "f62e2523",
   "metadata": {},
   "source": [
    "## Load a database"
   ]
  },
  {
   "cell_type": "code",
   "execution_count": null,
   "id": "2d42d147",
   "metadata": {},
   "outputs": [],
   "source": [
    "#%sql sqlite:///my_database.db"
   ]
  },
  {
   "cell_type": "markdown",
   "id": "250a4f2d",
   "metadata": {},
   "source": [
    "## Run SQL Commands"
   ]
  },
  {
   "cell_type": "code",
   "execution_count": null,
   "id": "2e7aa246",
   "metadata": {},
   "outputs": [],
   "source": [
    "%sql SELECT * FROM test_tbl"
   ]
  },
  {
   "cell_type": "markdown",
   "id": "52bb8331",
   "metadata": {},
   "source": [
    "Assigning variable to output"
   ]
  },
  {
   "cell_type": "code",
   "execution_count": null,
   "id": "4a1d95f8",
   "metadata": {},
   "outputs": [],
   "source": [
    "result_set = %sql SELECT * FROM test_tbl"
   ]
  },
  {
   "cell_type": "code",
   "execution_count": null,
   "id": "82d5c294",
   "metadata": {},
   "outputs": [],
   "source": [
    "%%sql result_set << \n",
    "SELECT * \n",
    "FROM test_tbl"
   ]
  },
  {
   "cell_type": "markdown",
   "id": "a3bd5824",
   "metadata": {},
   "source": [
    "## Format and Type Conversions"
   ]
  },
  {
   "cell_type": "markdown",
   "id": "81baf221",
   "metadata": {},
   "source": [
    "**Converting SQL Table into Pandas DataFrame**"
   ]
  },
  {
   "cell_type": "code",
   "execution_count": null,
   "id": "7b872ad0",
   "metadata": {},
   "outputs": [],
   "source": [
    "import pandas as pd"
   ]
  },
  {
   "cell_type": "markdown",
   "id": "192856db",
   "metadata": {},
   "source": [
    "Approach 1"
   ]
  },
  {
   "cell_type": "code",
   "execution_count": null,
   "id": "7d75d95f",
   "metadata": {},
   "outputs": [],
   "source": [
    "result_set = %sql SELECT * FROM test_tbl\n",
    "df = result_set.DataFrame()\n",
    "\n",
    "#print(type(result_set) == sql.run.ResultSet)\n",
    "assert(type(df) == pd.core.frame.DataFrame)"
   ]
  },
  {
   "cell_type": "markdown",
   "id": "8d301dad",
   "metadata": {},
   "source": [
    "Approach 2"
   ]
  },
  {
   "cell_type": "code",
   "execution_count": null,
   "id": "4867cf79",
   "metadata": {},
   "outputs": [],
   "source": [
    "%%sql\n",
    "SELECT * FROM test_tbl;"
   ]
  },
  {
   "cell_type": "code",
   "execution_count": null,
   "id": "957644dd",
   "metadata": {},
   "outputs": [],
   "source": [
    "result_set = _ # '_' refers to output of most recently run cell\n",
    "df = result_set.DataFrame()\n",
    "\n",
    "assert(type(df) == pd.core.frame.DataFrame)"
   ]
  },
  {
   "cell_type": "markdown",
   "id": "30fe0949",
   "metadata": {},
   "source": [
    "**Convert Pandas DataFrame into SQL Table**"
   ]
  },
  {
   "cell_type": "code",
   "execution_count": null,
   "id": "c3c1a77e",
   "metadata": {},
   "outputs": [],
   "source": []
  },
  {
   "cell_type": "code",
   "execution_count": null,
   "id": "15123d89",
   "metadata": {},
   "outputs": [],
   "source": [
    "my_df = pd.DataFrame([[1,2,3],[4,5,6],[7,8,9]], columns=['A','B','C'])\n",
    "# safety check\n",
    "%sql DROP TABLE IF EXISTS my_df;\n",
    "# conversion\n",
    "%sql PERSIST my_df;"
   ]
  },
  {
   "cell_type": "code",
   "execution_count": null,
   "id": "a451c246",
   "metadata": {},
   "outputs": [],
   "source": [
    "%sql SELECT * FROM my_df"
   ]
  },
  {
   "cell_type": "markdown",
   "id": "a91c90ae",
   "metadata": {},
   "source": [
    "# TESTING"
   ]
  },
  {
   "cell_type": "code",
   "execution_count": null,
   "id": "43d05c91",
   "metadata": {},
   "outputs": [],
   "source": [
    "%%sql\n",
    "DROP TABLE IF EXISTS my_table;\n",
    "CREATE TABLE IF NOT EXISTS my_table (col_int INTEGER, col_flt REAL, col_str TEXT, col_date TEXT);\n",
    "INSERT INTO my_table\n",
    "VALUES (1, 1.4, 'A', '2020-12-30'),\n",
    "       (2, 2.9, 'B', '2020-01-10');\n",
    "SELECT * FROM my_table;"
   ]
  },
  {
   "cell_type": "code",
   "execution_count": null,
   "id": "4c7d3c3b",
   "metadata": {},
   "outputs": [],
   "source": [
    "%%sql \n",
    "--ALTER TABLE my_table DROP COLUMN col_date2;\n",
    "--ALTER TABLE my_table ADD COLUMN col_date2 DATE;\n",
    "--INSERT INTO my_table(col_date2) SELECT DATE(col_date) FROM my_table;\n",
    "ALTER TABLE my_table ADD COLUMN col_date2 DATE SELECT DATE(col_date) FROM my_table;\n",
    "SELECT * FROM my_table;"
   ]
  },
  {
   "cell_type": "code",
   "execution_count": null,
   "id": "98c26c4b",
   "metadata": {},
   "outputs": [],
   "source": [
    "%sql SELECT * FROM my_table;"
   ]
  },
  {
   "cell_type": "code",
   "execution_count": null,
   "id": "c13db175",
   "metadata": {},
   "outputs": [],
   "source": []
  }
 ],
 "metadata": {
  "kernelspec": {
   "display_name": "py310",
   "language": "python",
   "name": "python3"
  },
  "language_info": {
   "codemirror_mode": {
    "name": "ipython",
    "version": 3
   },
   "file_extension": ".py",
   "mimetype": "text/x-python",
   "name": "python",
   "nbconvert_exporter": "python",
   "pygments_lexer": "ipython3",
   "version": "3.10.8"
  },
  "vscode": {
   "interpreter": {
    "hash": "bd9f3a9c6a65bdf73f575c5ee608940a68140b13a5b0806e66532ca971ed590f"
   }
  }
 },
 "nbformat": 4,
 "nbformat_minor": 5
}
