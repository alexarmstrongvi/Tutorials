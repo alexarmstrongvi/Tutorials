{
 "cells": [
  {
   "cell_type": "code",
   "execution_count": null,
   "id": "383957e9",
   "metadata": {},
   "outputs": [],
   "source": [
    "# Built-in\n",
    "import re, sys, math, json, os\n",
    "from time import gmtime, strftime\n",
    "\n",
    "# 3rd Party\n",
    "import numpy as np\n",
    "import pandas as pd\n",
    "import matplotlib.pyplot as plt\n",
    "from IPython.display import Image\n",
    "from IPython.display import display\n",
    "import urllib.request\n",
    "\n",
    "# Amazon\n",
    "import boto3\n",
    "import sagemaker\n",
    "from sagemaker import get_execution_role\n",
    "from sagemaker.predictor import csv_serializer\n",
    "from sagemaker.serializers import CSVSerializer"
   ]
  },
  {
   "cell_type": "code",
   "execution_count": null,
   "id": "8a17f12b",
   "metadata": {},
   "outputs": [],
   "source": [
    "sys.version"
   ]
  },
  {
   "cell_type": "code",
   "execution_count": null,
   "id": "78d64692",
   "metadata": {},
   "outputs": [],
   "source": [
    "# Configuration\n",
    "prefix = 'sagemaker/DEMO-xgboost-dm'\n",
    "bucket_name = 'my-s3-bucket-name1'\n",
    "s3_path = f's3://{bucket_name}/{prefix}'\n",
    "s3_data_train = f'{s3_path}/train'\n",
    "s3_output = f'{s3_path}/output'"
   ]
  },
  {
   "cell_type": "markdown",
   "id": "99d045a8",
   "metadata": {},
   "source": [
    "## Setup"
   ]
  },
  {
   "cell_type": "code",
   "execution_count": null,
   "id": "a261b7b8",
   "metadata": {},
   "outputs": [],
   "source": [
    "# Initialize Session\n",
    "b3_session = boto3.Session()\n",
    "my_region = session.region_name # set the region of the instance\n",
    "sm_session = sagemaker.Session()\n",
    "print(type(b3_session))\n",
    "print(type(sm_session))"
   ]
  },
  {
   "cell_type": "code",
   "execution_count": null,
   "id": "4e284f4f",
   "metadata": {},
   "outputs": [],
   "source": [
    "# Define IAM role\n",
    "role = get_execution_role()\n",
    "print(repr(role))"
   ]
  },
  {
   "cell_type": "code",
   "execution_count": null,
   "id": "6e45c3e5",
   "metadata": {},
   "outputs": [],
   "source": [
    "# this line automatically looks for the XGBoost image URI and builds an XGBoost container.\n",
    "xgboost_container = sagemaker.image_uris.retrieve(\"xgboost\", my_region, \"latest\")\n",
    "print(repr(xgboost_container))"
   ]
  },
  {
   "cell_type": "code",
   "execution_count": null,
   "id": "4ad0627a",
   "metadata": {},
   "outputs": [],
   "source": [
    "print(\"Success - the MySageMakerInstance is in the '\" + my_region + \"' region.\")\n",
    "print(\"You will use the '\" + xgboost_container + \"' container for your SageMaker endpoint.\")"
   ]
  },
  {
   "cell_type": "markdown",
   "id": "630c2805",
   "metadata": {},
   "source": [
    "## Get Data"
   ]
  },
  {
   "cell_type": "code",
   "execution_count": null,
   "id": "d4d3a055",
   "metadata": {},
   "outputs": [],
   "source": [
    "# Create S3 Bucket\n",
    "s3 = boto3.resource('s3')\n",
    "print(type(s3))\n",
    "try:\n",
    "    if  my_region == 'us-east-1':\n",
    "        s3.create_bucket(Bucket=bucket_name)\n",
    "    else: \n",
    "        s3.create_bucket(Bucket=bucket_name, CreateBucketConfiguration={ 'LocationConstraint': my_region })\n",
    "    bucket = s3.Bucket(bucket_name)\n",
    "    print(type(bucket))\n",
    "    print('S3 bucket created successfully')\n",
    "except Exception as e:\n",
    "    print('S3 error: ',e)"
   ]
  },
  {
   "cell_type": "code",
   "execution_count": null,
   "id": "5e4162de",
   "metadata": {},
   "outputs": [],
   "source": [
    "# Download and import data\n",
    "try:\n",
    "    urllib.request.urlretrieve (\"https://d1.awsstatic.com/tmt/build-train-deploy-machine-learning-model-sagemaker/bank_clean.27f01fbbdf43271788427f3682996ae29ceca05d.csv\", \"bank_clean.csv\")\n",
    "    print('Success: downloaded bank_clean.csv.')\n",
    "except Exception as e:\n",
    "    print('Data load error: ',e)\n",
    "\n",
    "try:\n",
    "    model_data = pd.read_csv('./bank_clean.csv',index_col=0)\n",
    "    print('Success: Data loaded into dataframe.')\n",
    "except Exception as e:\n",
    "    print('Data load error: ',e)"
   ]
  },
  {
   "cell_type": "code",
   "execution_count": null,
   "id": "7dc2c9fd",
   "metadata": {},
   "outputs": [],
   "source": [
    "model_data.info()"
   ]
  },
  {
   "cell_type": "code",
   "execution_count": null,
   "id": "35be9b1d",
   "metadata": {},
   "outputs": [],
   "source": [
    "# Train-test split with shuffle\n",
    "model_data_shuffled = model_data.sample(frac=1, random_state=1729)\n",
    "split_idx = int(0.7 * len(model_data))\n",
    "train_data, test_data = np.split(model_data_shuffled, [split_idx])\n",
    "print(train_data.shape, test_data.shape)"
   ]
  },
  {
   "cell_type": "code",
   "execution_count": null,
   "id": "8159e82d",
   "metadata": {},
   "outputs": [],
   "source": [
    "# Format training data (e.g. target values in first column)\n",
    "(pd.concat(\n",
    "        [\n",
    "            train_data['y_yes'], \n",
    "            train_data.drop(['y_no', 'y_yes'], axis=1)\n",
    "        ], axis=1)\n",
    "   .to_csv('train.csv', index=False, header=False)\n",
    ")\n",
    "\n",
    "# Upload training data to S3 so it can be used with SageMaker\n",
    "(s3.Bucket(bucket_name)\n",
    "   .Object(os.path.join(prefix, 'train/train.csv'))\n",
    "   .upload_file('train.csv')\n",
    ")\n",
    "print(type(s3.Bucket(bucket_name)))\n",
    "print(type(s3.Bucket(bucket_name).Object(os.path.join(prefix, 'train/train.csv'))))\n",
    "\n",
    "s3_input_train = sagemaker.inputs.TrainingInput(s3_data=s3_data_train, content_type='csv')\n",
    "print(type(s3_input_train))"
   ]
  },
  {
   "cell_type": "markdown",
   "id": "4c7c8d9a",
   "metadata": {},
   "source": [
    "## Build and Fit Estimator"
   ]
  },
  {
   "cell_type": "code",
   "execution_count": null,
   "id": "a41ac955",
   "metadata": {},
   "outputs": [],
   "source": [
    "xgb = sagemaker.estimator.Estimator(\n",
    "    xgboost_container,role, \n",
    "    instance_count=1, \n",
    "    instance_type='ml.m4.xlarge',\n",
    "    output_path=s3_output,\n",
    "    sagemaker_session=sm_session)\n",
    "print(type(xgb))\n",
    "\n",
    "xgb.set_hyperparameters(\n",
    "    max_depth=5,\n",
    "    eta=0.2,\n",
    "    gamma=4,\n",
    "    min_child_weight=6,\n",
    "    subsample=0.8,\n",
    "    silent=0,\n",
    "    objective='binary:logistic',\n",
    "    num_round=100)"
   ]
  },
  {
   "cell_type": "code",
   "execution_count": null,
   "id": "227ecd06",
   "metadata": {},
   "outputs": [],
   "source": [
    "%%time\n",
    "xgb.fit({'train': s3_input_train})"
   ]
  },
  {
   "cell_type": "code",
   "execution_count": null,
   "id": "1a35682b",
   "metadata": {},
   "outputs": [],
   "source": [
    "%%time\n",
    "xgb_predictor = xgb.deploy(initial_instance_count=1,instance_type='ml.m4.xlarge')\n",
    "print()\n",
    "print(type(xgb_predictor))"
   ]
  },
  {
   "cell_type": "code",
   "execution_count": null,
   "id": "7fc49110",
   "metadata": {},
   "outputs": [],
   "source": [
    "test_data_array = test_data.drop(['y_no', 'y_yes'], axis=1).values #load the data into an array\n",
    "xgb_predictor.serializer = CSVSerializer() # set the serializer type\n",
    "\n",
    "predictions = xgb_predictor.predict(test_data_array).decode('utf-8') # predict!\n",
    "predictions_array = np.fromstring(predictions[1:], sep=',') # and turn the prediction into an array\n",
    "\n",
    "print(predictions_array.shape)"
   ]
  },
  {
   "cell_type": "code",
   "execution_count": null,
   "id": "023d2c0a",
   "metadata": {},
   "outputs": [],
   "source": [
    "cm = pd.crosstab(\n",
    "    index=test_data['y_yes'], \n",
    "    columns=np.round(predictions_array), \n",
    "    rownames=['Observed'], \n",
    "    colnames=['Predicted'])\n",
    "\n",
    "tn = cm.iloc[0,0]; \n",
    "fn = cm.iloc[1,0]; \n",
    "tp = cm.iloc[1,1]; \n",
    "fp = cm.iloc[0,1]; \n",
    "p = (tp+tn)/(tp+tn+fp+fn)*100\n",
    "print(\"\\n{0:<20}{1:<4.1f}%\\n\".format(\"Overall Classification Rate: \", p))\n",
    "print(\"{0:<15}{1:<15}{2:>8}\".format(\"Predicted\", \"No Purchase\", \"Purchase\"))\n",
    "print(\"Observed\")\n",
    "print(\"{0:<15}{1:<2.0f}% ({2:<}){3:>6.0f}% ({4:<})\".format(\"No Purchase\", tn/(tn+fn)*100,tn, fp/(tp+fp)*100, fp))\n",
    "print(\"{0:<16}{1:<1.0f}% ({2:<}){3:>7.0f}% ({4:<}) \\n\".format(\"Purchase\", fn/(tn+fn)*100,fn, tp/(tp+fp)*100, tp))"
   ]
  },
  {
   "cell_type": "code",
   "execution_count": null,
   "id": "7baa614a",
   "metadata": {},
   "outputs": [],
   "source": [
    "display(cm)"
   ]
  },
  {
   "cell_type": "markdown",
   "id": "b589671d",
   "metadata": {},
   "source": [
    "## Clean Up"
   ]
  },
  {
   "cell_type": "code",
   "execution_count": null,
   "id": "c62fa857",
   "metadata": {},
   "outputs": [],
   "source": [
    "xgb_predictor.delete_endpoint(delete_endpoint_config=True)\n",
    "bucket.objects.all().delete()"
   ]
  },
  {
   "cell_type": "code",
   "execution_count": null,
   "id": "e61eaa23",
   "metadata": {},
   "outputs": [],
   "source": []
  }
 ],
 "metadata": {
  "kernelspec": {
   "display_name": "Python 3",
   "language": "python",
   "name": "python3"
  },
  "language_info": {
   "codemirror_mode": {
    "name": "ipython",
    "version": 3
   },
   "file_extension": ".py",
   "mimetype": "text/x-python",
   "name": "python",
   "nbconvert_exporter": "python",
   "pygments_lexer": "ipython3",
   "version": "3.11.1 (main, Dec 23 2022, 09:28:24) [Clang 14.0.0 (clang-1400.0.29.202)]"
  },
  "vscode": {
   "interpreter": {
    "hash": "5c7b89af1651d0b8571dde13640ecdccf7d5a6204171d6ab33e7c296e100e08a"
   }
  }
 },
 "nbformat": 4,
 "nbformat_minor": 5
}
